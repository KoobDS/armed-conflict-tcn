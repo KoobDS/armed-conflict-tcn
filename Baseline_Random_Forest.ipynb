{
 "cells": [
  {
   "cell_type": "code",
   "execution_count": 1,
   "id": "5b500540",
   "metadata": {},
   "outputs": [],
   "source": [
    "# Import libraries\n",
    "import pandas as pd\n",
    "import numpy as np\n",
    "from sklearn.ensemble import RandomForestRegressor\n",
    "from dateutil.relativedelta import relativedelta\n",
    "from sklearn.metrics import mean_absolute_error, mean_squared_error, r2_score\n",
    "import time"
   ]
  },
  {
   "cell_type": "code",
   "execution_count": 2,
   "id": "af4df5db",
   "metadata": {},
   "outputs": [],
   "source": [
    "# Load in data\n",
    "filepath = \"C:/Users/benja/Documents/ACLED/processed_data/rf_data.csv\"\n",
    "df = pd.read_csv(filepath)\n",
    "# df.dtypes"
   ]
  },
  {
   "cell_type": "code",
   "execution_count": 3,
   "id": "5dd94e19",
   "metadata": {},
   "outputs": [],
   "source": [
    "# Week start -> datetime\n",
    "df['week_start'] = pd.to_datetime(df['week_start'], format='%Y-%m-%d')\n",
    "\n",
    "# Optimize data types\n",
    "df['country'] = df['country'].astype('category')\n",
    "df['admin1'] = df['admin1'].astype('category')\n",
    "\n",
    "# Convert float64 to float32\n",
    "float64_cols = df.select_dtypes(include='float64').columns\n",
    "df[float64_cols] = df[float64_cols].astype('float32')"
   ]
  },
  {
   "cell_type": "code",
   "execution_count": 4,
   "id": "cf876b99",
   "metadata": {},
   "outputs": [],
   "source": [
    "# Fill NaNs only in numeric columns\n",
    "numeric_cols = df.select_dtypes(include=[np.number]).columns\n",
    "df[numeric_cols] = df[numeric_cols].fillna(0)\n",
    "\n",
    "# Get dummies for countires and admin1\n",
    "dummies_df = pd.get_dummies(df, columns=['country', 'admin1'])\n",
    "\n",
    "# Train/test split based on last 6 months\n",
    "last_date = dummies_df['week_start'].max()\n",
    "six_months_ago = last_date - relativedelta(months=6)\n",
    "train = dummies_df[dummies_df['week_start'] < six_months_ago]\n",
    "test = dummies_df[dummies_df['week_start'] >= six_months_ago]"
   ]
  },
  {
   "cell_type": "code",
   "execution_count": 5,
   "id": "ad182c50",
   "metadata": {},
   "outputs": [],
   "source": [
    "### Correct init:\n",
    "\n",
    "# Features to exclude\n",
    "drop_cols = ['week_start']\n",
    "\n",
    "# Target variables to predict\n",
    "target_vars = [\n",
    "    'fatalities',\n",
    "    'count_battles',\n",
    "    'count_protests',\n",
    "    'count_riots',\n",
    "    'count_explosions',\n",
    "    'count_civ_violence'\n",
    "]\n",
    "\n",
    "# Store results\n",
    "results = []\n",
    "\n",
    "# Collect metrics for all variables\n",
    "metrics = []"
   ]
  },
  {
   "cell_type": "code",
   "execution_count": 6,
   "id": "5da4a4ae",
   "metadata": {},
   "outputs": [
    {
     "name": "stdout",
     "output_type": "stream",
     "text": [
      "Trained and evaluated RF for fatalities in 2895.23 seconds\n",
      "Trained and evaluated RF for count_battles in 2868.17 seconds\n",
      "Trained and evaluated RF for count_protests in 2814.78 seconds\n",
      "Trained and evaluated RF for count_riots in 2971.94 seconds\n",
      "Trained and evaluated RF for count_explosions in 2998.32 seconds\n",
      "Trained and evaluated RF for count_civ_violence in 2826.41 seconds\n",
      "Saved all RF predictions and metrics\n"
     ]
    }
   ],
   "source": [
    "### RF loop for all features of interest\n",
    "\n",
    "for target in target_vars:\n",
    "    start = time.time()\n",
    "\n",
    "    X_train = train.drop(columns=drop_cols + target_vars)\n",
    "    y_train = train[target]\n",
    "    X_test = test.drop(columns=drop_cols + target_vars)\n",
    "    y_test = test[target]\n",
    "\n",
    "    # Train RF\n",
    "    model = RandomForestRegressor(max_depth=10, n_estimators=100, random_state=9, n_jobs=-1) # \"n_jobs=-1\" uses all CPU cores--essential optimization\n",
    "    model.fit(X_train, y_train)\n",
    "\n",
    "    # Predict\n",
    "    y_pred = model.predict(X_test)\n",
    "\n",
    "    # Metrics\n",
    "    mae = mean_absolute_error(y_test, y_pred)\n",
    "    rmse = np.sqrt(mean_squared_error(y_test, y_pred))\n",
    "    r2 = r2_score(y_test, y_pred)\n",
    "\n",
    "    # Save predictions\n",
    "    test_result = test[['week_start']].copy()\n",
    "    test_result['true'] = y_test.values\n",
    "    test_result['predicted'] = y_pred\n",
    "    test_result['target'] = target\n",
    "    results.append(test_result)\n",
    "\n",
    "    metrics.append({\n",
    "        'target_variable': target,\n",
    "        'MAE': round(mae, 4),\n",
    "        'RMSE': round(rmse, 4),\n",
    "        'R2': round(r2, 4)\n",
    "    })\n",
    "\n",
    "    print(f\"Trained and evaluated RF for {target} in {round(time.time() - start, 2)} seconds\")\n",
    "\n",
    "# Save\n",
    "all_preds = pd.concat(results, axis=0)\n",
    "all_preds.to_csv(\"rf_predictions_last_6mo.csv\", index=False)\n",
    "\n",
    "metrics_df = pd.DataFrame(metrics)\n",
    "metrics_df.to_csv(\"rf_metrics_last_6mo.csv\", index=False)\n",
    "\n",
    "print(\"Saved all RF predictions and metrics\")"
   ]
  },
  {
   "cell_type": "code",
   "execution_count": null,
   "id": "72443877",
   "metadata": {},
   "outputs": [],
   "source": []
  }
 ],
 "metadata": {
  "kernelspec": {
   "display_name": "Python 3",
   "language": "python",
   "name": "python3"
  },
  "language_info": {
   "codemirror_mode": {
    "name": "ipython",
    "version": 3
   },
   "file_extension": ".py",
   "mimetype": "text/x-python",
   "name": "python",
   "nbconvert_exporter": "python",
   "pygments_lexer": "ipython3",
   "version": "3.13.2"
  }
 },
 "nbformat": 4,
 "nbformat_minor": 5
}
